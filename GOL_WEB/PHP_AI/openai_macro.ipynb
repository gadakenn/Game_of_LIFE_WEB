{
 "cells": [
  {
   "cell_type": "code",
   "execution_count": 33,
   "metadata": {},
   "outputs": [],
   "source": [
    "from openai import OpenAI\n",
    "from pathlib import Path\n",
    "import os\n",
    "import time\n",
    "\n",
    "\n",
    "# print(API_KEY)\n",
    "client = OpenAI(api_key=API_KEY)"
   ]
  },
  {
   "cell_type": "code",
   "execution_count": 35,
   "metadata": {},
   "outputs": [
    {
     "data": {
      "text/plain": [
       "Assistant(id='asst_cglpEtrf39z1AAzdAHw4MbzK', created_at=1716246697, description=None, instructions='Ты находишься в игре, связанной с экономикой. Когда я пишу тебе запрос, ты должен генерировать интересную задачу по макроэкономике (используя macro1_lect_1_30.pdf)', metadata={}, model='gpt-3.5-turbo-0125', name='Macro Tutor', object='assistant', tools=[FileSearchTool(type='file_search')], response_format='auto', temperature=1.0, tool_resources=ToolResources(code_interpreter=None, file_search=ToolResourcesFileSearch(vector_store_ids=[])), top_p=1.0)"
      ]
     },
     "execution_count": 35,
     "metadata": {},
     "output_type": "execute_result"
    }
   ],
   "source": [
    "my_assistant = client.beta.assistants.create(\n",
    "    instructions=\"Ты находишься в игре, связанной с экономикой. Когда я пишу тебе запрос, ты должен генерировать интересную задачу по макроэкономике (используя macro1_lect_1_30.pdf)\",\n",
    "    name=\"Macro Tutor\",\n",
    "    tools=[{\"type\": \"file_search\"}],\n",
    "    model=\"gpt-3.5-turbo-0125\"\n",
    ")\n",
    "my_assistant"
   ]
  },
  {
   "cell_type": "code",
   "execution_count": 36,
   "metadata": {},
   "outputs": [],
   "source": [
    "\n",
    "vector_store = client.beta.vector_stores.create(name=\"Macro1 Store\")\n"
   ]
  },
  {
   "cell_type": "code",
   "execution_count": 108,
   "metadata": {},
   "outputs": [],
   "source": [
    "file_path_gol = [\"/Applications/MAMP/htdocs/GOL_WEB/PHP_AI/fin_rin.pdf\"]\n",
    "file_stream_gol = [open(path, \"rb\") for path in file_path_gol]"
   ]
  },
  {
   "cell_type": "code",
   "execution_count": 109,
   "metadata": {},
   "outputs": [],
   "source": [
    "file_batch = client.beta.vector_stores.file_batches.upload_and_poll(\n",
    "  vector_store_id=vector_store.id, files=file_stream_gol\n",
    ")"
   ]
  },
  {
   "cell_type": "code",
   "execution_count": 105,
   "metadata": {},
   "outputs": [
    {
     "data": {
      "text/plain": [
       "FileCounts(cancelled=0, completed=0, failed=1, in_progress=0, total=1)"
      ]
     },
     "execution_count": 105,
     "metadata": {},
     "output_type": "execute_result"
    }
   ],
   "source": [
    "# file_batch.status\n",
    "file_batch.file_counts"
   ]
  },
  {
   "cell_type": "code",
   "execution_count": 110,
   "metadata": {},
   "outputs": [
    {
     "data": {
      "text/plain": [
       "VectorStore(id='vs_9KCNuQDguJWfwRAwtVh9P7Rl', created_at=1716246702, file_counts=FileCounts(cancelled=0, completed=2, failed=1, in_progress=0, total=3), last_active_at=1716410097, metadata={}, name='Macro1 Store', object='vector_store', status='completed', usage_bytes=925943, expires_after=None, expires_at=None)"
      ]
     },
     "execution_count": 110,
     "metadata": {},
     "output_type": "execute_result"
    }
   ],
   "source": [
    "client.beta.vector_stores.retrieve(vector_store_id=vector_store.id)"
   ]
  },
  {
   "cell_type": "code",
   "execution_count": 113,
   "metadata": {},
   "outputs": [
    {
     "data": {
      "text/plain": [
       "VectorStore(id='vs_9KCNuQDguJWfwRAwtVh9P7Rl', created_at=1716246702, file_counts=FileCounts(cancelled=0, completed=0, failed=0, in_progress=0, total=0), last_active_at=1716246702, metadata={}, name='Macro1 Store', object='vector_store', status='completed', usage_bytes=0, expires_after=None, expires_at=None)"
      ]
     },
     "execution_count": 113,
     "metadata": {},
     "output_type": "execute_result"
    }
   ],
   "source": [
    "vector_store"
   ]
  },
  {
   "cell_type": "code",
   "execution_count": 114,
   "metadata": {},
   "outputs": [],
   "source": [
    "my_assistant = client.beta.assistants.update(\n",
    "  assistant_id=my_assistant.id,\n",
    "  tool_resources={\"file_search\": {\"vector_store_ids\": [vector_store.id]}},\n",
    ")"
   ]
  },
  {
   "cell_type": "code",
   "execution_count": 115,
   "metadata": {},
   "outputs": [],
   "source": [
    "thread = client.beta.threads.create(\n",
    "      messages=[\n",
    "    {\n",
    "      \"role\": \"user\",\n",
    "      \"content\": \"Сгенерируй раунд для моей игры Game Of Life. Пусть герою 12 лет и думает, как можно заработать\",\n",
    "      # Attach the new file to the message.\n",
    "    }\n",
    "  ]\n",
    ")\n",
    "\n"
   ]
  },
  {
   "cell_type": "code",
   "execution_count": 72,
   "metadata": {},
   "outputs": [
    {
     "name": "stdout",
     "output_type": "stream",
     "text": [
      "{'value': \"Here is a macroeconomics problem related to the IS-LM-BP model for your Game Of Life WEB:\\n\\nImagine in the Game Of Life WEB that country A is facing a situation where there is a sudden surge in capital outflows due to a decrease in investor confidence. Analyze this scenario using the IS-LM-BP model:\\n- Describe the effects of the capital outflows on country A's balance of payments and exchange rate.\\n- Illustrate how the IS-LM-BP model would adjust to accommodate the change in capital flows.\\n- Discuss the implications of these adjustments on country A's output level and interest rates in both the short and long term.\\n\\nThis problem requires applying the concepts of the IS-LM-BP model to analyze the impact of capital outflows on an open economy like country A in the Game Of Life WEB, considering the interplay between macroeconomic variables such as exchange rates, interest rates, and output levels.【4:0†source】【4:1†source】【4:3†source】.\", 'annotations': [{'type': 'file_citation', 'text': '【4:0†source】', 'start_index': 906, 'end_index': 918, 'file_citation': {'file_id': 'file-ApRi2EpkJSHUnSP3dmS48sXC'}}, {'type': 'file_citation', 'text': '【4:1†source】', 'start_index': 918, 'end_index': 930, 'file_citation': {'file_id': 'file-ApRi2EpkJSHUnSP3dmS48sXC'}}, {'type': 'file_citation', 'text': '【4:3†source】', 'start_index': 930, 'end_index': 942, 'file_citation': {'file_id': 'file-ApRi2EpkJSHUnSP3dmS48sXC'}}]}\n",
      "Here is a macroeconomics problem related to the IS-LM-BP model for your Game Of Life WEB:\n",
      "\n",
      "Imagine in the Game Of Life WEB that country A is facing a situation where there is a sudden surge in capital outflows due to a decrease in investor confidence. Analyze this scenario using the IS-LM-BP model:\n",
      "- Describe the effects of the capital outflows on country A's balance of payments and exchange rate.\n",
      "- Illustrate how the IS-LM-BP model would adjust to accommodate the change in capital flows.\n",
      "- Discuss the implications of these adjustments on country A's output level and interest rates in both the short and long term.\n",
      "\n",
      "This problem requires applying the concepts of the IS-LM-BP model to analyze the impact of capital outflows on an open economy like country A in the Game Of Life WEB, considering the interplay between macroeconomic variables such as exchange rates, interest rates, and output levels.[0][1][2].\n",
      "\n"
     ]
    }
   ],
   "source": [
    "# # Use the create and poll SDK helper to create a run and poll the status of\n",
    "# # the run until it's in a terminal state.\n",
    "\n",
    "# run = client.beta.threads.runs.create_and_poll(\n",
    "#     thread_id=thread.id, assistant_id=my_assistant.id\n",
    "# )\n",
    "# # print(run)\n",
    "# messages = list(client.beta.threads.messages.list(thread_id=thread.id, run_id=run.id))\n",
    "# # print(messages)\n",
    "# message_content = messages[0].content[0].text\n",
    "# print(message_content)\n",
    "# annotations = message_content['annotations']\n",
    "# citations = []\n",
    "# for index, annotation in enumerate(annotations):\n",
    "#     message_content['value'] = message_content['value'].replace(annotation['text'], f\"[{index}]\")\n",
    "#     if file_citation := getattr(annotation, \"file_citation\", None):\n",
    "#         cited_file = client.files.retrieve(file_citation.file_id)\n",
    "#         citations.append(f\"[{index}] {cited_file.filename}\")\n",
    "\n",
    "# print(message_content['value'])\n",
    "# print(\"\\n\".join(citations))"
   ]
  },
  {
   "cell_type": "code",
   "execution_count": 116,
   "metadata": {},
   "outputs": [],
   "source": [
    "def chat_with_gpt(thread_new):\n",
    "    run = client.beta.threads.runs.create_and_poll(\n",
    "        thread_id=thread_new.id, assistant_id=my_assistant.id\n",
    "    )\n",
    "\n",
    "    messages = list(client.beta.threads.messages.list(thread_id=thread_new.id, run_id=run.id))\n",
    "    # print(messages)\n",
    "    from_user_msg = input('NEXT:')\n",
    "    while from_user_msg != 'STOP':\n",
    "        \n",
    "        client.beta.threads.messages.create(\n",
    "            thread_id=thread_new.id, role='user', content=from_user_msg\n",
    "        )\n",
    "        \n",
    "        client.beta.threads.update(thread_id=thread_new.id)\n",
    "        client.beta.threads.runs.update(run_id=run.id, thread_id=thread_new.id)\n",
    "        messages = list(client.beta.threads.messages.list(thread_id=thread_new.id, run_id=run.id))\n",
    "        message_content = messages[0].content[0].text\n",
    "        print(message_content)\n",
    "        annotations = message_content['annotations']\n",
    "        citations = []\n",
    "        for index, annotation in enumerate(annotations):\n",
    "            message_content['value'] = message_content['value'].replace(annotation['text'], f\"[{index}]\")\n",
    "            if file_citation := getattr(annotation, \"file_citation\", None):\n",
    "                cited_file = client.files.retrieve(file_citation.file_id)\n",
    "                citations.append(f\"[{index}] {cited_file.filename}\")\n",
    "\n",
    "        # print(message_content['value'])\n",
    "        \n",
    "        from_user_msg = input('NEXT:')\n",
    "    # print(\"\\n\".join(citations))"
   ]
  },
  {
   "cell_type": "code",
   "execution_count": 123,
   "metadata": {},
   "outputs": [
    {
     "ename": "BadRequestError",
     "evalue": "Error code: 400 - {'error': {'message': \"Invalid type for 'tool_resources.file_search.vector_stores[0]': expected an object, but got a string instead.\", 'type': 'invalid_request_error', 'param': 'tool_resources.file_search.vector_stores[0]', 'code': 'invalid_type'}}",
     "output_type": "error",
     "traceback": [
      "\u001b[0;31m---------------------------------------------------------------------------\u001b[0m",
      "\u001b[0;31mBadRequestError\u001b[0m                           Traceback (most recent call last)",
      "\u001b[0;32m/var/folders/dq/dvddxjln0m3bqgfxgghjjchw0000gn/T/ipykernel_40855/815956723.py\u001b[0m in \u001b[0;36m<cell line: 1>\u001b[0;34m()\u001b[0m\n\u001b[0;32m----> 1\u001b[0;31m \u001b[0mempty_thread\u001b[0m \u001b[0;34m=\u001b[0m \u001b[0mclient\u001b[0m\u001b[0;34m.\u001b[0m\u001b[0mbeta\u001b[0m\u001b[0;34m.\u001b[0m\u001b[0mthreads\u001b[0m\u001b[0;34m.\u001b[0m\u001b[0mcreate\u001b[0m\u001b[0;34m(\u001b[0m\u001b[0mtool_resources\u001b[0m\u001b[0;34m=\u001b[0m\u001b[0;34m{\u001b[0m\u001b[0;34m\"file_search\"\u001b[0m\u001b[0;34m:\u001b[0m \u001b[0;34m{\u001b[0m\u001b[0;34m\"vector_stores\"\u001b[0m\u001b[0;34m:\u001b[0m \u001b[0;34m{\u001b[0m\u001b[0;34m\"file_ids\"\u001b[0m \u001b[0;34m:\u001b[0m \u001b[0;34m[\u001b[0m\u001b[0;34m'file-U4RK7QEp6rtEOcLkjK1HI4Cd'\u001b[0m\u001b[0;34m]\u001b[0m\u001b[0;34m}\u001b[0m\u001b[0;34m}\u001b[0m\u001b[0;34m}\u001b[0m\u001b[0;34m,\u001b[0m\u001b[0;34m)\u001b[0m\u001b[0;34m\u001b[0m\u001b[0;34m\u001b[0m\u001b[0m\n\u001b[0m",
      "\u001b[0;32m/Library/Frameworks/Python.framework/Versions/3.10/lib/python3.10/site-packages/openai/resources/beta/threads/threads.py\u001b[0m in \u001b[0;36mcreate\u001b[0;34m(self, messages, metadata, tool_resources, extra_headers, extra_query, extra_body, timeout)\u001b[0m\n\u001b[1;32m    119\u001b[0m         \"\"\"\n\u001b[1;32m    120\u001b[0m         \u001b[0mextra_headers\u001b[0m \u001b[0;34m=\u001b[0m \u001b[0;34m{\u001b[0m\u001b[0;34m\"OpenAI-Beta\"\u001b[0m\u001b[0;34m:\u001b[0m \u001b[0;34m\"assistants=v2\"\u001b[0m\u001b[0;34m,\u001b[0m \u001b[0;34m**\u001b[0m\u001b[0;34m(\u001b[0m\u001b[0mextra_headers\u001b[0m \u001b[0;32mor\u001b[0m \u001b[0;34m{\u001b[0m\u001b[0;34m}\u001b[0m\u001b[0;34m)\u001b[0m\u001b[0;34m}\u001b[0m\u001b[0;34m\u001b[0m\u001b[0;34m\u001b[0m\u001b[0m\n\u001b[0;32m--> 121\u001b[0;31m         return self._post(\n\u001b[0m\u001b[1;32m    122\u001b[0m             \u001b[0;34m\"/threads\"\u001b[0m\u001b[0;34m,\u001b[0m\u001b[0;34m\u001b[0m\u001b[0;34m\u001b[0m\u001b[0m\n\u001b[1;32m    123\u001b[0m             body=maybe_transform(\n",
      "\u001b[0;32m/Library/Frameworks/Python.framework/Versions/3.10/lib/python3.10/site-packages/openai/_base_client.py\u001b[0m in \u001b[0;36mpost\u001b[0;34m(self, path, cast_to, body, options, files, stream, stream_cls)\u001b[0m\n\u001b[1;32m   1238\u001b[0m             \u001b[0mmethod\u001b[0m\u001b[0;34m=\u001b[0m\u001b[0;34m\"post\"\u001b[0m\u001b[0;34m,\u001b[0m \u001b[0murl\u001b[0m\u001b[0;34m=\u001b[0m\u001b[0mpath\u001b[0m\u001b[0;34m,\u001b[0m \u001b[0mjson_data\u001b[0m\u001b[0;34m=\u001b[0m\u001b[0mbody\u001b[0m\u001b[0;34m,\u001b[0m \u001b[0mfiles\u001b[0m\u001b[0;34m=\u001b[0m\u001b[0mto_httpx_files\u001b[0m\u001b[0;34m(\u001b[0m\u001b[0mfiles\u001b[0m\u001b[0;34m)\u001b[0m\u001b[0;34m,\u001b[0m \u001b[0;34m**\u001b[0m\u001b[0moptions\u001b[0m\u001b[0;34m\u001b[0m\u001b[0;34m\u001b[0m\u001b[0m\n\u001b[1;32m   1239\u001b[0m         )\n\u001b[0;32m-> 1240\u001b[0;31m         \u001b[0;32mreturn\u001b[0m \u001b[0mcast\u001b[0m\u001b[0;34m(\u001b[0m\u001b[0mResponseT\u001b[0m\u001b[0;34m,\u001b[0m \u001b[0mself\u001b[0m\u001b[0;34m.\u001b[0m\u001b[0mrequest\u001b[0m\u001b[0;34m(\u001b[0m\u001b[0mcast_to\u001b[0m\u001b[0;34m,\u001b[0m \u001b[0mopts\u001b[0m\u001b[0;34m,\u001b[0m \u001b[0mstream\u001b[0m\u001b[0;34m=\u001b[0m\u001b[0mstream\u001b[0m\u001b[0;34m,\u001b[0m \u001b[0mstream_cls\u001b[0m\u001b[0;34m=\u001b[0m\u001b[0mstream_cls\u001b[0m\u001b[0;34m)\u001b[0m\u001b[0;34m)\u001b[0m\u001b[0;34m\u001b[0m\u001b[0;34m\u001b[0m\u001b[0m\n\u001b[0m\u001b[1;32m   1241\u001b[0m \u001b[0;34m\u001b[0m\u001b[0m\n\u001b[1;32m   1242\u001b[0m     def patch(\n",
      "\u001b[0;32m/Library/Frameworks/Python.framework/Versions/3.10/lib/python3.10/site-packages/openai/_base_client.py\u001b[0m in \u001b[0;36mrequest\u001b[0;34m(self, cast_to, options, remaining_retries, stream, stream_cls)\u001b[0m\n\u001b[1;32m    919\u001b[0m         \u001b[0mstream_cls\u001b[0m\u001b[0;34m:\u001b[0m \u001b[0mtype\u001b[0m\u001b[0;34m[\u001b[0m\u001b[0m_StreamT\u001b[0m\u001b[0;34m]\u001b[0m \u001b[0;34m|\u001b[0m \u001b[0;32mNone\u001b[0m \u001b[0;34m=\u001b[0m \u001b[0;32mNone\u001b[0m\u001b[0;34m,\u001b[0m\u001b[0;34m\u001b[0m\u001b[0;34m\u001b[0m\u001b[0m\n\u001b[1;32m    920\u001b[0m     ) -> ResponseT | _StreamT:\n\u001b[0;32m--> 921\u001b[0;31m         return self._request(\n\u001b[0m\u001b[1;32m    922\u001b[0m             \u001b[0mcast_to\u001b[0m\u001b[0;34m=\u001b[0m\u001b[0mcast_to\u001b[0m\u001b[0;34m,\u001b[0m\u001b[0;34m\u001b[0m\u001b[0;34m\u001b[0m\u001b[0m\n\u001b[1;32m    923\u001b[0m             \u001b[0moptions\u001b[0m\u001b[0;34m=\u001b[0m\u001b[0moptions\u001b[0m\u001b[0;34m,\u001b[0m\u001b[0;34m\u001b[0m\u001b[0;34m\u001b[0m\u001b[0m\n",
      "\u001b[0;32m/Library/Frameworks/Python.framework/Versions/3.10/lib/python3.10/site-packages/openai/_base_client.py\u001b[0m in \u001b[0;36m_request\u001b[0;34m(self, cast_to, options, remaining_retries, stream, stream_cls)\u001b[0m\n\u001b[1;32m   1018\u001b[0m \u001b[0;34m\u001b[0m\u001b[0m\n\u001b[1;32m   1019\u001b[0m             \u001b[0mlog\u001b[0m\u001b[0;34m.\u001b[0m\u001b[0mdebug\u001b[0m\u001b[0;34m(\u001b[0m\u001b[0;34m\"Re-raising status error\"\u001b[0m\u001b[0;34m)\u001b[0m\u001b[0;34m\u001b[0m\u001b[0;34m\u001b[0m\u001b[0m\n\u001b[0;32m-> 1020\u001b[0;31m             \u001b[0;32mraise\u001b[0m \u001b[0mself\u001b[0m\u001b[0;34m.\u001b[0m\u001b[0m_make_status_error_from_response\u001b[0m\u001b[0;34m(\u001b[0m\u001b[0merr\u001b[0m\u001b[0;34m.\u001b[0m\u001b[0mresponse\u001b[0m\u001b[0;34m)\u001b[0m \u001b[0;32mfrom\u001b[0m \u001b[0;32mNone\u001b[0m\u001b[0;34m\u001b[0m\u001b[0;34m\u001b[0m\u001b[0m\n\u001b[0m\u001b[1;32m   1021\u001b[0m \u001b[0;34m\u001b[0m\u001b[0m\n\u001b[1;32m   1022\u001b[0m         return self._process_response(\n",
      "\u001b[0;31mBadRequestError\u001b[0m: Error code: 400 - {'error': {'message': \"Invalid type for 'tool_resources.file_search.vector_stores[0]': expected an object, but got a string instead.\", 'type': 'invalid_request_error', 'param': 'tool_resources.file_search.vector_stores[0]', 'code': 'invalid_type'}}"
     ]
    }
   ],
   "source": [
    "empty_thread = client.beta.threads.create(tool_resources={\n",
    "    \"file_search\": {\n",
    "        \"vector_stores\": {\n",
    "            \"file_ids\" : [\"file-U4RK7QEp6rtEOcLkjK1HI4Cd\"]}}},)"
   ]
  },
  {
   "cell_type": "code",
   "execution_count": 117,
   "metadata": {},
   "outputs": [
    {
     "name": "stdout",
     "output_type": "stream",
     "text": [
      "{'value': 'For your Game of Life round, you can challenge the 12-year-old character to think about ways to earn money by exploring the concept of the business cycle in macroeconomics. The character could learn about different phases of the business cycle such as recession, crisis, upturn, and peak, and how different economic variables behave during these phases (e.g., cyclical, countercyclical, or acyclical variables). This knowledge could help the character make informed decisions on how to earn money based on the current economic conditions. \\n\\nYou can introduce scenarios where the character has to adapt their earning strategies based on the phase of the business cycle and explore how their decisions impact their financial well-being in the game.\\n\\nCitation: Presentation on macroeconomics concepts from macro1_lect_1_30.pdf【4:1†source】【4:2†source】.', 'annotations': [{'type': 'file_citation', 'text': '【4:1†source】', 'start_index': 823, 'end_index': 835, 'file_citation': {'file_id': 'file-ApRi2EpkJSHUnSP3dmS48sXC'}}, {'type': 'file_citation', 'text': '【4:2†source】', 'start_index': 835, 'end_index': 847, 'file_citation': {'file_id': 'file-ApRi2EpkJSHUnSP3dmS48sXC'}}]}\n",
      "For your Game of Life round, you can challenge the 12-year-old character to think about ways to earn money by exploring the concept of the business cycle in macroeconomics. The character could learn about different phases of the business cycle such as recession, crisis, upturn, and peak, and how different economic variables behave during these phases (e.g., cyclical, countercyclical, or acyclical variables). This knowledge could help the character make informed decisions on how to earn money based on the current economic conditions. \n",
      "\n",
      "You can introduce scenarios where the character has to adapt their earning strategies based on the phase of the business cycle and explore how their decisions impact their financial well-being in the game.\n",
      "\n",
      "Citation: Presentation on macroeconomics concepts from macro1_lect_1_30.pdf[0][1].\n",
      "{'value': 'For your Game of Life round, you can challenge the 12-year-old character to think about ways to earn money by exploring the concept of the business cycle in macroeconomics. The character could learn about different phases of the business cycle such as recession, crisis, upturn, and peak, and how different economic variables behave during these phases (e.g., cyclical, countercyclical, or acyclical variables). This knowledge could help the character make informed decisions on how to earn money based on the current economic conditions. \\n\\nYou can introduce scenarios where the character has to adapt their earning strategies based on the phase of the business cycle and explore how their decisions impact their financial well-being in the game.\\n\\nCitation: Presentation on macroeconomics concepts from macro1_lect_1_30.pdf【4:1†source】【4:2†source】.', 'annotations': [{'type': 'file_citation', 'text': '【4:1†source】', 'start_index': 823, 'end_index': 835, 'file_citation': {'file_id': 'file-ApRi2EpkJSHUnSP3dmS48sXC'}}, {'type': 'file_citation', 'text': '【4:2†source】', 'start_index': 835, 'end_index': 847, 'file_citation': {'file_id': 'file-ApRi2EpkJSHUnSP3dmS48sXC'}}]}\n",
      "For your Game of Life round, you can challenge the 12-year-old character to think about ways to earn money by exploring the concept of the business cycle in macroeconomics. The character could learn about different phases of the business cycle such as recession, crisis, upturn, and peak, and how different economic variables behave during these phases (e.g., cyclical, countercyclical, or acyclical variables). This knowledge could help the character make informed decisions on how to earn money based on the current economic conditions. \n",
      "\n",
      "You can introduce scenarios where the character has to adapt their earning strategies based on the phase of the business cycle and explore how their decisions impact their financial well-being in the game.\n",
      "\n",
      "Citation: Presentation on macroeconomics concepts from macro1_lect_1_30.pdf[0][1].\n",
      "{'value': 'For your Game of Life round, you can challenge the 12-year-old character to think about ways to earn money by exploring the concept of the business cycle in macroeconomics. The character could learn about different phases of the business cycle such as recession, crisis, upturn, and peak, and how different economic variables behave during these phases (e.g., cyclical, countercyclical, or acyclical variables). This knowledge could help the character make informed decisions on how to earn money based on the current economic conditions. \\n\\nYou can introduce scenarios where the character has to adapt their earning strategies based on the phase of the business cycle and explore how their decisions impact their financial well-being in the game.\\n\\nCitation: Presentation on macroeconomics concepts from macro1_lect_1_30.pdf【4:1†source】【4:2†source】.', 'annotations': [{'type': 'file_citation', 'text': '【4:1†source】', 'start_index': 823, 'end_index': 835, 'file_citation': {'file_id': 'file-ApRi2EpkJSHUnSP3dmS48sXC'}}, {'type': 'file_citation', 'text': '【4:2†source】', 'start_index': 835, 'end_index': 847, 'file_citation': {'file_id': 'file-ApRi2EpkJSHUnSP3dmS48sXC'}}]}\n",
      "For your Game of Life round, you can challenge the 12-year-old character to think about ways to earn money by exploring the concept of the business cycle in macroeconomics. The character could learn about different phases of the business cycle such as recession, crisis, upturn, and peak, and how different economic variables behave during these phases (e.g., cyclical, countercyclical, or acyclical variables). This knowledge could help the character make informed decisions on how to earn money based on the current economic conditions. \n",
      "\n",
      "You can introduce scenarios where the character has to adapt their earning strategies based on the phase of the business cycle and explore how their decisions impact their financial well-being in the game.\n",
      "\n",
      "Citation: Presentation on macroeconomics concepts from macro1_lect_1_30.pdf[0][1].\n"
     ]
    }
   ],
   "source": [
    "chat_with_gpt(thread)"
   ]
  },
  {
   "cell_type": "code",
   "execution_count": 120,
   "metadata": {},
   "outputs": [
    {
     "data": {
      "text/plain": [
       "SyncCursorPage[Message](data=[Message(id='msg_hLWjBbSXiec8P3we7QkTN74D', assistant_id=None, attachments=[], completed_at=None, content=[TextContentBlock(text=Text(annotations=[], value='сгенерируй задачу по теме IS-LM-BP'), type='text')], created_at=1716410591, incomplete_at=None, incomplete_details=None, metadata={}, object='thread.message', role='user', run_id=None, status=None, thread_id='thread_ourk94lO4U2spKGPetV851vY'), Message(id='msg_AWx9i0UJnt11Tvd7Amv9uTJp', assistant_id=None, attachments=[], completed_at=None, content=[TextContentBlock(text=Text(annotations=[], value='Отличн. Теперь герою 18 лет он задумывается над тем, чтобы инвестировать в фондовый рынок. Сгенерируй раунд, где ему потребуется правильно распределить свой капитал, чтобы максимизировать прибыль. В следующем сообщении дождись ответа от игрока и дай ему оценку'), type='text')], created_at=1716410518, incomplete_at=None, incomplete_details=None, metadata={}, object='thread.message', role='user', run_id=None, status=None, thread_id='thread_ourk94lO4U2spKGPetV851vY'), Message(id='msg_fBgdfLF48EnEFF3AktI2NrNc', assistant_id=None, attachments=[], completed_at=None, content=[TextContentBlock(text=Text(annotations=[], value='Сгенерируй раунд для моей игры Game Of Life. Пусть герою 12 лет и думает, как можно заработать'), type='text')], created_at=1716410364, incomplete_at=None, incomplete_details=None, metadata={}, object='thread.message', role='user', run_id=None, status=None, thread_id='thread_ourk94lO4U2spKGPetV851vY'), Message(id='msg_00x0gVYZAoTEZS2DnXzNovL9', assistant_id='asst_cglpEtrf39z1AAzdAHw4MbzK', attachments=[], completed_at=None, content=[ImageFileContentBlock(image_file=None, type='text', text={'value': 'For your Game of Life round, you can challenge the 12-year-old character to think about ways to earn money by exploring the concept of the business cycle in macroeconomics. The character could learn about different phases of the business cycle such as recession, crisis, upturn, and peak, and how different economic variables behave during these phases (e.g., cyclical, countercyclical, or acyclical variables). This knowledge could help the character make informed decisions on how to earn money based on the current economic conditions. \\n\\nYou can introduce scenarios where the character has to adapt their earning strategies based on the phase of the business cycle and explore how their decisions impact their financial well-being in the game.\\n\\nCitation: Presentation on macroeconomics concepts from macro1_lect_1_30.pdf【4:1†source】【4:2†source】.', 'annotations': [{'type': 'file_citation', 'text': '【4:1†source】', 'start_index': 823, 'end_index': 835, 'file_citation': {'file_id': 'file-ApRi2EpkJSHUnSP3dmS48sXC'}}, {'type': 'file_citation', 'text': '【4:2†source】', 'start_index': 835, 'end_index': 847, 'file_citation': {'file_id': 'file-ApRi2EpkJSHUnSP3dmS48sXC'}}]})], created_at=1716410348, incomplete_at=None, incomplete_details=None, metadata={}, object='thread.message', role='assistant', run_id='run_k91emCiXNxWvdZjalaMVupIg', status=None, thread_id='thread_ourk94lO4U2spKGPetV851vY'), Message(id='msg_0Km7d42DMpmGD7LkMOUUGCE0', assistant_id=None, attachments=[], completed_at=None, content=[TextContentBlock(text=Text(annotations=[], value='Сгенерируй раунд для моей игры Game Of Life. Пусть герою 12 лет и думает, как можно заработать'), type='text')], created_at=1716410291, incomplete_at=None, incomplete_details=None, metadata={}, object='thread.message', role='user', run_id=None, status=None, thread_id='thread_ourk94lO4U2spKGPetV851vY')], object='list', first_id='msg_hLWjBbSXiec8P3we7QkTN74D', last_id='msg_0Km7d42DMpmGD7LkMOUUGCE0', has_more=False)"
      ]
     },
     "execution_count": 120,
     "metadata": {},
     "output_type": "execute_result"
    }
   ],
   "source": [
    "client.beta.threads.messages.list(thread_id=thread.id)"
   ]
  },
  {
   "cell_type": "code",
   "execution_count": 130,
   "metadata": {},
   "outputs": [],
   "source": [
    "new_run = client.beta.threads.runs.create_and_poll(\n",
    "    thread_id=thread.id,\n",
    "    assistant_id=my_assistant.id,\n",
    "    instructions=\"Пожалуйста, генерируй тексты задания по заданным пользователем темам\"\n",
    ")"
   ]
  },
  {
   "cell_type": "code",
   "execution_count": 165,
   "metadata": {},
   "outputs": [],
   "source": [
    "thread = client.beta.threads.create()"
   ]
  },
  {
   "cell_type": "code",
   "execution_count": 166,
   "metadata": {},
   "outputs": [
    {
     "name": "stdout",
     "output_type": "stream",
     "text": [
      "Ответ ассистента: составь задачу по теме IS-LM-BP. Необходимо, чтобы там были числа\n"
     ]
    }
   ],
   "source": [
    "import time\n",
    "def send_message_and_get_response(thread_id, assistant_id, message):\n",
    "    run = client.beta.threads.runs.create_and_poll(\n",
    "        thread_id=thread_id,\n",
    "        assistant_id=assistant_id,\n",
    "        instructions='Пожалуйста, генерируй тексты заданий по заданным пользователем темам'\n",
    "    )\n",
    "    client.beta.threads.messages.create(thread_id=thread_id, content=message, role='user')\n",
    "    # while client.beta.threads.messages.list(thread_id=thread.id).data[0].content[0].text.value == message:\n",
    "    #     pass\n",
    "    # time.sleep(10)\n",
    "    return client.beta.threads.messages.list(thread_id=thread.id).data[0].content[0].text.value\n",
    "    # return run['data']['choices'][0]['message']['content']\n",
    "\n",
    "# Получаем и отправляем сообщения в цикле\n",
    "usr_msg = input(\"Введите ваше сообщение (или 0 для выхода): \")\n",
    "while usr_msg != '0':\n",
    "    response = send_message_and_get_response(thread.id, my_assistant.id, usr_msg)\n",
    "    print(\"Ответ ассистента:\", response)\n",
    "    usr_msg = input(\"Введите ваше сообщение (или 0 для выхода): \")"
   ]
  },
  {
   "cell_type": "code",
   "execution_count": 167,
   "metadata": {},
   "outputs": [
    {
     "data": {
      "text/plain": [
       "SyncCursorPage[Message](data=[Message(id='msg_0YsMzNTdcbX7trruFfQGPHSR', assistant_id=None, attachments=[], completed_at=None, content=[TextContentBlock(text=Text(annotations=[], value='составь задачу по теме IS-LM-BP. Необходимо, чтобы там были числа'), type='text')], created_at=1716464421, incomplete_at=None, incomplete_details=None, metadata={}, object='thread.message', role='user', run_id=None, status=None, thread_id='thread_mxXMKgUg8vEzADBDfL2F3pqi'), Message(id='msg_ROsH2wI8XdtexpdU65I8KU8X', assistant_id='asst_cglpEtrf39z1AAzdAHw4MbzK', attachments=[], completed_at=None, content=[TextContentBlock(text=Text(annotations=[], value=\"How can I assist you with the uploaded files today? If you need me to search for specific information, please let me know the topics or queries you're interested in!\"), type='text')], created_at=1716464419, incomplete_at=None, incomplete_details=None, metadata={}, object='thread.message', role='assistant', run_id='run_NHqYv2LqWXxUr6ZTWl4uXMxI', status=None, thread_id='thread_mxXMKgUg8vEzADBDfL2F3pqi')], object='list', first_id='msg_0YsMzNTdcbX7trruFfQGPHSR', last_id='msg_ROsH2wI8XdtexpdU65I8KU8X', has_more=False)"
      ]
     },
     "execution_count": 167,
     "metadata": {},
     "output_type": "execute_result"
    }
   ],
   "source": [
    "client.beta.threads.messages.list(thread_id=thread.id)"
   ]
  },
  {
   "cell_type": "code",
   "execution_count": 170,
   "metadata": {},
   "outputs": [],
   "source": [
    "new_assistant = client.beta.assistants.create(\n",
    "    name='Фин.рынки Task Creator',\n",
    "    description='Ты - генератор раундов для игры Game Of Life (смотри в GameOfLife.pdf).',\n",
    "    instructions='Ты должен генерировать задания, связанные с экономикой (смотри в macro1_lect_1_30.pdf). Твои задания могут быть как теоретические, так и вычислительные',\n",
    "    model='gpt-3.5-turbo-0125',\n",
    "    tool_resources={\n",
    "        \"file_search\" : {\n",
    "            \"vector_store_ids\" : ['vs_9KCNuQDguJWfwRAwtVh9P7Rl']\n",
    "        }\n",
    "    },\n",
    "    # response_format={\"type\" : \"json_object\"}\n",
    ")"
   ]
  },
  {
   "cell_type": "code",
   "execution_count": 183,
   "metadata": {},
   "outputs": [
    {
     "name": "stdout",
     "output_type": "stream",
     "text": [
      "in_progress\n"
     ]
    }
   ],
   "source": [
    "batch_add = client.beta.vector_stores.file_batches.create(\n",
    "  vector_store_id=\"vs_9KCNuQDguJWfwRAwtVh9P7Rl\",\n",
    "  file_ids=[\"file-vd21YVg1jAjlsLBTGRp6PBUw\", \"file-IwozwGNhnRkCa2foJuChW78D\"]\n",
    ")\n",
    "time.sleep(10)\n",
    "print(batch_add.status)"
   ]
  },
  {
   "cell_type": "code",
   "execution_count": 203,
   "metadata": {},
   "outputs": [
    {
     "name": "stdout",
     "output_type": "stream",
     "text": [
      "in_progress\n"
     ]
    }
   ],
   "source": [
    "print(batch_add.status)"
   ]
  },
  {
   "cell_type": "code",
   "execution_count": 180,
   "metadata": {},
   "outputs": [],
   "source": [
    "another_thread = client.beta.threads.create(\n",
    "    messages=[\n",
    "        {\n",
    "            \"role\" : \"user\",\n",
    "            \"content\" : \"Сгенерируй новый раунд. Моему герою сейчас 18 лет. Он начал задумываться о первом заработке\",\n",
    "            \"attachments\" : [\n",
    "                {\n",
    "                    \"file_id\" : \"file-IwozwGNhnRkCa2foJuChW78D\",\n",
    "                    \"tools\" : [{\"type\" : \"file_search\"}]\n",
    "                }\n",
    "            ]\n",
    "        }\n",
    "    ]\n",
    ")"
   ]
  },
  {
   "cell_type": "code",
   "execution_count": 205,
   "metadata": {},
   "outputs": [
    {
     "data": {
      "text/plain": [
       "VectorStore(id='vs_9KCNuQDguJWfwRAwtVh9P7Rl', created_at=1716246702, file_counts=FileCounts(cancelled=0, completed=4, failed=1, in_progress=0, total=5), last_active_at=1716488099, metadata={}, name='Macro1 Store', object='vector_store', status='completed', usage_bytes=1105074, expires_after=None, expires_at=None)"
      ]
     },
     "execution_count": 205,
     "metadata": {},
     "output_type": "execute_result"
    }
   ],
   "source": [
    "client.beta.vector_stores.retrieve(vector_store_id=vector_store.id)"
   ]
  },
  {
   "cell_type": "code",
   "execution_count": 206,
   "metadata": {},
   "outputs": [
    {
     "name": "stdout",
     "output_type": "stream",
     "text": [
      "Введите запрос:\n",
      "Твоё сообщение: Сгенерируй задачу, связанную с инвестированием во фьючерсы\n",
      "Что создалось: Message(id='msg_Yxo4ZE9t9bqnpNDOwl7efdBZ', assistant_id=None, attachments=[], completed_at=None, content=[TextContentBlock(text=Text(annotations=[], value='Сгенерируй задачу, связанную с инвестированием во фьючерсы'), type='text')], created_at=1716490925, incomplete_at=None, incomplete_details=None, metadata={}, object='thread.message', role='user', run_id=None, status=None, thread_id='thread_ddUPygmJ8frnq59NclcfB4Wp')\n",
      "Вот задача по инвестированию во фьючерсы для тебя:\n",
      "\n",
      "Допустим, инвестор решил инвестировать свои средства в фьючерсный контракт на нефть. Пусть стоимость одного фьючерсного контракта на нефть равна $50 за баррель. Инвестор решает купить 10 фьючерсных контрактов на нефть.\n",
      "\n",
      "Дано:\n",
      "- Стоимость одного фьючерсного контракта на нефть: $50 за баррель.\n",
      "- Количество фьючерсных контрактов, которые инвестор решил купить: 10 контрактов.\n",
      "\n",
      "Задача:\n",
      "1. Рассчитай общую стоимость покупки 10 фьючерсных контрактов на нефть.\n",
      "2. Предположим, что цена на нефть в будущем повысилась до $55 за баррель. Рассчитай доход инвестора от данной инвестиции в фьючерсные контракты.\n",
      "3. Каковы будут риски данной инвестиции, если цена на нефть упадёт до $45 за баррель?\n",
      "\n",
      "После решения задачи, инвестор сможет оценить потенциальную прибыль и риски, связанные с инвестированием во фьючерсы на нефть.\n",
      "Введите запрос:\n",
      "Твоё сообщение: \n"
     ]
    },
    {
     "ename": "BadRequestError",
     "evalue": "Error code: 400 - {'error': {'message': 'Message content must be non-empty.', 'type': 'invalid_request_error', 'param': 'content', 'code': None}}",
     "output_type": "error",
     "traceback": [
      "\u001b[0;31m---------------------------------------------------------------------------\u001b[0m",
      "\u001b[0;31mBadRequestError\u001b[0m                           Traceback (most recent call last)",
      "\u001b[0;32m/var/folders/dq/dvddxjln0m3bqgfxgghjjchw0000gn/T/ipykernel_40855/4258824427.py\u001b[0m in \u001b[0;36m<cell line: 48>\u001b[0;34m()\u001b[0m\n\u001b[1;32m     51\u001b[0m     \u001b[0muser_msg\u001b[0m \u001b[0;34m=\u001b[0m \u001b[0minput\u001b[0m\u001b[0;34m(\u001b[0m\u001b[0;34m)\u001b[0m\u001b[0;34m\u001b[0m\u001b[0;34m\u001b[0m\u001b[0m\n\u001b[1;32m     52\u001b[0m \u001b[0;34m\u001b[0m\u001b[0m\n\u001b[0;32m---> 53\u001b[0;31m     \u001b[0mask_assistant\u001b[0m\u001b[0;34m(\u001b[0m\u001b[0;34mf\"{user_msg}\"\u001b[0m\u001b[0;34m)\u001b[0m\u001b[0;34m\u001b[0m\u001b[0;34m\u001b[0m\u001b[0m\n\u001b[0m",
      "\u001b[0;32m/var/folders/dq/dvddxjln0m3bqgfxgghjjchw0000gn/T/ipykernel_40855/4258824427.py\u001b[0m in \u001b[0;36mask_assistant\u001b[0;34m(user_msg)\u001b[0m\n\u001b[1;32m     30\u001b[0m \u001b[0;34m\u001b[0m\u001b[0m\n\u001b[1;32m     31\u001b[0m \u001b[0;32mdef\u001b[0m \u001b[0mask_assistant\u001b[0m\u001b[0;34m(\u001b[0m\u001b[0muser_msg\u001b[0m\u001b[0;34m)\u001b[0m\u001b[0;34m:\u001b[0m\u001b[0;34m\u001b[0m\u001b[0;34m\u001b[0m\u001b[0m\n\u001b[0;32m---> 32\u001b[0;31m     \u001b[0mcreate_msg\u001b[0m\u001b[0;34m(\u001b[0m\u001b[0muser_msg\u001b[0m\u001b[0;34m)\u001b[0m\u001b[0;34m\u001b[0m\u001b[0;34m\u001b[0m\u001b[0m\n\u001b[0m\u001b[1;32m     33\u001b[0m     \u001b[0mrun_id\u001b[0m \u001b[0;34m=\u001b[0m \u001b[0mthread_running\u001b[0m\u001b[0;34m(\u001b[0m\u001b[0;34m)\u001b[0m\u001b[0;34m\u001b[0m\u001b[0;34m\u001b[0m\u001b[0m\n\u001b[1;32m     34\u001b[0m     \u001b[0mtime\u001b[0m\u001b[0;34m.\u001b[0m\u001b[0msleep\u001b[0m\u001b[0;34m(\u001b[0m\u001b[0;36m15\u001b[0m\u001b[0;34m)\u001b[0m\u001b[0;34m\u001b[0m\u001b[0;34m\u001b[0m\u001b[0m\n",
      "\u001b[0;32m/var/folders/dq/dvddxjln0m3bqgfxgghjjchw0000gn/T/ipykernel_40855/4258824427.py\u001b[0m in \u001b[0;36mcreate_msg\u001b[0;34m(user_msg)\u001b[0m\n\u001b[1;32m      1\u001b[0m \u001b[0;32mdef\u001b[0m \u001b[0mcreate_msg\u001b[0m\u001b[0;34m(\u001b[0m\u001b[0muser_msg\u001b[0m\u001b[0;34m)\u001b[0m\u001b[0;34m:\u001b[0m\u001b[0;34m\u001b[0m\u001b[0;34m\u001b[0m\u001b[0m\n\u001b[1;32m      2\u001b[0m     \u001b[0mprint\u001b[0m\u001b[0;34m(\u001b[0m\u001b[0;34mf\"Твоё сообщение: {user_msg}\"\u001b[0m\u001b[0;34m)\u001b[0m\u001b[0;34m\u001b[0m\u001b[0;34m\u001b[0m\u001b[0m\n\u001b[0;32m----> 3\u001b[0;31m     message_create = client.beta.threads.messages.create(\n\u001b[0m\u001b[1;32m      4\u001b[0m         \u001b[0mrole\u001b[0m\u001b[0;34m=\u001b[0m\u001b[0;34m\"user\"\u001b[0m\u001b[0;34m,\u001b[0m\u001b[0;34m\u001b[0m\u001b[0;34m\u001b[0m\u001b[0m\n\u001b[1;32m      5\u001b[0m         \u001b[0mthread_id\u001b[0m\u001b[0;34m=\u001b[0m\u001b[0manother_thread\u001b[0m\u001b[0;34m.\u001b[0m\u001b[0mid\u001b[0m\u001b[0;34m,\u001b[0m\u001b[0;34m\u001b[0m\u001b[0;34m\u001b[0m\u001b[0m\n",
      "\u001b[0;32m/Library/Frameworks/Python.framework/Versions/3.10/lib/python3.10/site-packages/openai/resources/beta/threads/messages.py\u001b[0m in \u001b[0;36mcreate\u001b[0;34m(self, thread_id, content, role, attachments, metadata, extra_headers, extra_query, extra_body, timeout)\u001b[0m\n\u001b[1;32m     86\u001b[0m             \u001b[0;32mraise\u001b[0m \u001b[0mValueError\u001b[0m\u001b[0;34m(\u001b[0m\u001b[0;34mf\"Expected a non-empty value for `thread_id` but received {thread_id!r}\"\u001b[0m\u001b[0;34m)\u001b[0m\u001b[0;34m\u001b[0m\u001b[0;34m\u001b[0m\u001b[0m\n\u001b[1;32m     87\u001b[0m         \u001b[0mextra_headers\u001b[0m \u001b[0;34m=\u001b[0m \u001b[0;34m{\u001b[0m\u001b[0;34m\"OpenAI-Beta\"\u001b[0m\u001b[0;34m:\u001b[0m \u001b[0;34m\"assistants=v2\"\u001b[0m\u001b[0;34m,\u001b[0m \u001b[0;34m**\u001b[0m\u001b[0;34m(\u001b[0m\u001b[0mextra_headers\u001b[0m \u001b[0;32mor\u001b[0m \u001b[0;34m{\u001b[0m\u001b[0;34m}\u001b[0m\u001b[0;34m)\u001b[0m\u001b[0;34m}\u001b[0m\u001b[0;34m\u001b[0m\u001b[0;34m\u001b[0m\u001b[0m\n\u001b[0;32m---> 88\u001b[0;31m         return self._post(\n\u001b[0m\u001b[1;32m     89\u001b[0m             \u001b[0;34mf\"/threads/{thread_id}/messages\"\u001b[0m\u001b[0;34m,\u001b[0m\u001b[0;34m\u001b[0m\u001b[0;34m\u001b[0m\u001b[0m\n\u001b[1;32m     90\u001b[0m             body=maybe_transform(\n",
      "\u001b[0;32m/Library/Frameworks/Python.framework/Versions/3.10/lib/python3.10/site-packages/openai/_base_client.py\u001b[0m in \u001b[0;36mpost\u001b[0;34m(self, path, cast_to, body, options, files, stream, stream_cls)\u001b[0m\n\u001b[1;32m   1238\u001b[0m             \u001b[0mmethod\u001b[0m\u001b[0;34m=\u001b[0m\u001b[0;34m\"post\"\u001b[0m\u001b[0;34m,\u001b[0m \u001b[0murl\u001b[0m\u001b[0;34m=\u001b[0m\u001b[0mpath\u001b[0m\u001b[0;34m,\u001b[0m \u001b[0mjson_data\u001b[0m\u001b[0;34m=\u001b[0m\u001b[0mbody\u001b[0m\u001b[0;34m,\u001b[0m \u001b[0mfiles\u001b[0m\u001b[0;34m=\u001b[0m\u001b[0mto_httpx_files\u001b[0m\u001b[0;34m(\u001b[0m\u001b[0mfiles\u001b[0m\u001b[0;34m)\u001b[0m\u001b[0;34m,\u001b[0m \u001b[0;34m**\u001b[0m\u001b[0moptions\u001b[0m\u001b[0;34m\u001b[0m\u001b[0;34m\u001b[0m\u001b[0m\n\u001b[1;32m   1239\u001b[0m         )\n\u001b[0;32m-> 1240\u001b[0;31m         \u001b[0;32mreturn\u001b[0m \u001b[0mcast\u001b[0m\u001b[0;34m(\u001b[0m\u001b[0mResponseT\u001b[0m\u001b[0;34m,\u001b[0m \u001b[0mself\u001b[0m\u001b[0;34m.\u001b[0m\u001b[0mrequest\u001b[0m\u001b[0;34m(\u001b[0m\u001b[0mcast_to\u001b[0m\u001b[0;34m,\u001b[0m \u001b[0mopts\u001b[0m\u001b[0;34m,\u001b[0m \u001b[0mstream\u001b[0m\u001b[0;34m=\u001b[0m\u001b[0mstream\u001b[0m\u001b[0;34m,\u001b[0m \u001b[0mstream_cls\u001b[0m\u001b[0;34m=\u001b[0m\u001b[0mstream_cls\u001b[0m\u001b[0;34m)\u001b[0m\u001b[0;34m)\u001b[0m\u001b[0;34m\u001b[0m\u001b[0;34m\u001b[0m\u001b[0m\n\u001b[0m\u001b[1;32m   1241\u001b[0m \u001b[0;34m\u001b[0m\u001b[0m\n\u001b[1;32m   1242\u001b[0m     def patch(\n",
      "\u001b[0;32m/Library/Frameworks/Python.framework/Versions/3.10/lib/python3.10/site-packages/openai/_base_client.py\u001b[0m in \u001b[0;36mrequest\u001b[0;34m(self, cast_to, options, remaining_retries, stream, stream_cls)\u001b[0m\n\u001b[1;32m    919\u001b[0m         \u001b[0mstream_cls\u001b[0m\u001b[0;34m:\u001b[0m \u001b[0mtype\u001b[0m\u001b[0;34m[\u001b[0m\u001b[0m_StreamT\u001b[0m\u001b[0;34m]\u001b[0m \u001b[0;34m|\u001b[0m \u001b[0;32mNone\u001b[0m \u001b[0;34m=\u001b[0m \u001b[0;32mNone\u001b[0m\u001b[0;34m,\u001b[0m\u001b[0;34m\u001b[0m\u001b[0;34m\u001b[0m\u001b[0m\n\u001b[1;32m    920\u001b[0m     ) -> ResponseT | _StreamT:\n\u001b[0;32m--> 921\u001b[0;31m         return self._request(\n\u001b[0m\u001b[1;32m    922\u001b[0m             \u001b[0mcast_to\u001b[0m\u001b[0;34m=\u001b[0m\u001b[0mcast_to\u001b[0m\u001b[0;34m,\u001b[0m\u001b[0;34m\u001b[0m\u001b[0;34m\u001b[0m\u001b[0m\n\u001b[1;32m    923\u001b[0m             \u001b[0moptions\u001b[0m\u001b[0;34m=\u001b[0m\u001b[0moptions\u001b[0m\u001b[0;34m,\u001b[0m\u001b[0;34m\u001b[0m\u001b[0;34m\u001b[0m\u001b[0m\n",
      "\u001b[0;32m/Library/Frameworks/Python.framework/Versions/3.10/lib/python3.10/site-packages/openai/_base_client.py\u001b[0m in \u001b[0;36m_request\u001b[0;34m(self, cast_to, options, remaining_retries, stream, stream_cls)\u001b[0m\n\u001b[1;32m   1018\u001b[0m \u001b[0;34m\u001b[0m\u001b[0m\n\u001b[1;32m   1019\u001b[0m             \u001b[0mlog\u001b[0m\u001b[0;34m.\u001b[0m\u001b[0mdebug\u001b[0m\u001b[0;34m(\u001b[0m\u001b[0;34m\"Re-raising status error\"\u001b[0m\u001b[0;34m)\u001b[0m\u001b[0;34m\u001b[0m\u001b[0;34m\u001b[0m\u001b[0m\n\u001b[0;32m-> 1020\u001b[0;31m             \u001b[0;32mraise\u001b[0m \u001b[0mself\u001b[0m\u001b[0;34m.\u001b[0m\u001b[0m_make_status_error_from_response\u001b[0m\u001b[0;34m(\u001b[0m\u001b[0merr\u001b[0m\u001b[0;34m.\u001b[0m\u001b[0mresponse\u001b[0m\u001b[0;34m)\u001b[0m \u001b[0;32mfrom\u001b[0m \u001b[0;32mNone\u001b[0m\u001b[0;34m\u001b[0m\u001b[0;34m\u001b[0m\u001b[0m\n\u001b[0m\u001b[1;32m   1021\u001b[0m \u001b[0;34m\u001b[0m\u001b[0m\n\u001b[1;32m   1022\u001b[0m         return self._process_response(\n",
      "\u001b[0;31mBadRequestError\u001b[0m: Error code: 400 - {'error': {'message': 'Message content must be non-empty.', 'type': 'invalid_request_error', 'param': 'content', 'code': None}}"
     ]
    }
   ],
   "source": [
    "def create_msg(user_msg):\n",
    "    print(f\"Твоё сообщение: {user_msg}\")\n",
    "    message_create = client.beta.threads.messages.create(\n",
    "        role=\"user\",\n",
    "        thread_id=another_thread.id,\n",
    "        content=f\"{user_msg}\"\n",
    "    )\n",
    "    print(f\"Что создалось: {message_create}\")\n",
    "    \n",
    "def thread_running():\n",
    "    run = client.beta.threads.runs.create(\n",
    "        thread_id=another_thread.id,\n",
    "        assistant_id=new_assistant.id\n",
    "    )\n",
    "    return run.id\n",
    "\n",
    "def refresh_thread(run_id):\n",
    "    run_info = client.beta.threads.runs.retrieve(\n",
    "        thread_id=another_thread.id,\n",
    "        run_id=run_id\n",
    "    )\n",
    "    \n",
    "    \n",
    "def get_last_msg():\n",
    "    messages = client.beta.threads.messages.list(\n",
    "        thread_id=another_thread.id\n",
    "    )\n",
    "    return messages\n",
    "\n",
    "\n",
    "def ask_assistant(user_msg):\n",
    "    create_msg(user_msg)\n",
    "    run_id = thread_running()\n",
    "    time.sleep(15)\n",
    "    \n",
    "    refresh_thread(run_id)\n",
    "    \n",
    "    messages = get_last_msg()\n",
    "    \n",
    "    # try:\n",
    "    answer = messages.data[0].content[0].text.value\n",
    "    # except:\n",
    "        \n",
    "    print(answer)\n",
    "    \n",
    "    \n",
    "\n",
    "while True:\n",
    "    print(\"Введите запрос:\")\n",
    "    \n",
    "    user_msg = input()\n",
    "    \n",
    "    ask_assistant(f\"{user_msg}\")"
   ]
  },
  {
   "cell_type": "code",
   "execution_count": 182,
   "metadata": {},
   "outputs": [
    {
     "data": {
      "text/plain": [
       "SyncCursorPage[Message](data=[Message(id='msg_QbQJjc0MZyZuinVpDP3CYuo5', assistant_id='asst_2zXy7YsxfOBl4WVKm73h3xqo', attachments=[], completed_at=None, content=[TextContentBlock(text=Text(annotations=[], value='Конечно, вот задача с HTML-тегами для удобной вставки на сайт:\\n\\n```html\\n<h3>Задача по модели IS-LM-BP</h3>\\n<p>Представим экономику, которая находится в равновесии при данном уровне государственных закупок и процентной ставке. Рассмотрим модель IS-LM-BP.</p>\\n<p><strong>Дано:</strong></p>\\n<ul>\\n  <li>Исходный уровень государственных закупок (G) и объём облигаций в обращении (B).</li>\\n  <li>Первоначальный уровень процентной ставки (r).</li>\\n</ul>\\n<p><strong>Шок:</strong><br>\\nУровень государственных закупок (G) увеличился за счёт выпуска дополнительных облигаций.</p>\\n<p><strong>Задача:</strong></p>\\n<ol>\\n  <li>Объясни, как повлияет увеличение уровня государственных закупок на протекание процессов в экономике.</li>\\n  <li>Определи, как изменятся следующие параметры в результате увеличения уровня государственных закупок:\\n    <ul>\\n      <li>Общие выпуски (Y);</li>\\n      <li>Уровень процентной ставки (r);</li>\\n      <li>Баланс платежей (BP).</li>\\n    </ul>\\n  </li>\\n  <li>Используя графическое представление модели IS-LM-BP, покажи ситуацию до и после увеличения уровня государственных закупок.</li>\\n</ol>\\n<p>Необходимо представить график IS-LM-BP до и после шока и объяснить изменения.</p>\\n```\\n\\nТеперь ты можешь смело вставить эту задачу на свой сайт.'), type='text')], created_at=1716470134, incomplete_at=None, incomplete_details=None, metadata={}, object='thread.message', role='assistant', run_id='run_Ba1SPx9wGxTYRhwIxIfKB1sx', status=None, thread_id='thread_ddUPygmJ8frnq59NclcfB4Wp'), Message(id='msg_qGneHxgtxfCrUhWtNFRVDJNG', assistant_id=None, attachments=[], completed_at=None, content=[TextContentBlock(text=Text(annotations=[], value='Теперь предоставь мне эту же задачу, но с тегами HTML, чтобы я смог красиво вставить её на сайт'), type='text')], created_at=1716470133, incomplete_at=None, incomplete_details=None, metadata={}, object='thread.message', role='user', run_id=None, status=None, thread_id='thread_ddUPygmJ8frnq59NclcfB4Wp'), Message(id='msg_S5GEslEhX7BEICcyfusGUWkk', assistant_id='asst_2zXy7YsxfOBl4WVKm73h3xqo', attachments=[], completed_at=None, content=[TextContentBlock(text=Text(annotations=[], value='Хорошо, вот задача для тебя:\\n\\nПредставим экономику, которая находится в равновесии при данном уровне государственных закупок и процентной ставке. Рассмотрим модель IS-LM-BP.\\n\\nДано:\\n- Исходный уровень государственных закупок (G) и объём облигаций в обращении (B).\\n- Первоначальный уровень процентной ставки (r).\\n\\nШок:\\nУровень государственных закупок (G) увеличился за счёт выпуска дополнительных облигаций.\\n\\nЗадача:\\n1. Объясни, как повлияет увеличение уровня государственных закупок на протекание процессов в экономике.\\n2. Определи, как изменятся следующие параметры в результате увеличения уровня государственных закупок:\\n   - Общие выпуски (Y);\\n   - Уровень процентной ставки (r);\\n   - Баланс платежей (BP).\\n\\n3. Используя графическое представление модели IS-LM-BP, покажи ситуацию до и после увеличения уровня государственных закупок. \\n\\nНеобходимо представить график IS-LM-BP до и после шока и объяснить изменения.'), type='text')], created_at=1716470036, incomplete_at=None, incomplete_details=None, metadata={}, object='thread.message', role='assistant', run_id='run_WI0uz4punPkVYzKJ2WoJ9t94', status=None, thread_id='thread_ddUPygmJ8frnq59NclcfB4Wp'), Message(id='msg_1Xacl85zw1Zd71D7jVoXLmpT', assistant_id=None, attachments=[], completed_at=None, content=[TextContentBlock(text=Text(annotations=[], value='Сгенерируй задачу по теме IS-LM-BP, где в качестве шока будет увеличение гос.закупок за счёт облигаций'), type='text')], created_at=1716470034, incomplete_at=None, incomplete_details=None, metadata={}, object='thread.message', role='user', run_id=None, status=None, thread_id='thread_ddUPygmJ8frnq59NclcfB4Wp'), Message(id='msg_sc4fv3bvujMQMLLl2EmvurGH', assistant_id=None, attachments=[Attachment(file_id='file-IwozwGNhnRkCa2foJuChW78D', tools=[FileSearchTool(type='file_search')])], completed_at=None, content=[TextContentBlock(text=Text(annotations=[], value='Сгенерируй новый раунд. Моему герою сейчас 18 лет. Он начал задумываться о первом заработке'), type='text')], created_at=1716469965, incomplete_at=None, incomplete_details=None, metadata={}, object='thread.message', role='user', run_id=None, status=None, thread_id='thread_ddUPygmJ8frnq59NclcfB4Wp')], object='list', first_id='msg_QbQJjc0MZyZuinVpDP3CYuo5', last_id='msg_sc4fv3bvujMQMLLl2EmvurGH', has_more=False)"
      ]
     },
     "execution_count": 182,
     "metadata": {},
     "output_type": "execute_result"
    }
   ],
   "source": [
    "client.beta.threads.messages.list(thread_id=another_thread.id)"
   ]
  }
 ],
 "metadata": {
  "kernelspec": {
   "display_name": "Python 3.10.7 64-bit",
   "language": "python",
   "name": "python3"
  },
  "language_info": {
   "codemirror_mode": {
    "name": "ipython",
    "version": 3
   },
   "file_extension": ".py",
   "mimetype": "text/x-python",
   "name": "python",
   "nbconvert_exporter": "python",
   "pygments_lexer": "ipython3",
   "version": "3.10.7"
  },
  "orig_nbformat": 4,
  "vscode": {
   "interpreter": {
    "hash": "aee8b7b246df8f9039afb4144a1f6fd8d2ca17a180786b69acc140d282b71a49"
   }
  }
 },
 "nbformat": 4,
 "nbformat_minor": 2
}
